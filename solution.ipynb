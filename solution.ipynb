{
 "cells": [
  {
   "cell_type": "markdown",
   "id": "3ef91205",
   "metadata": {},
   "source": [
    "# Challenge Data Scientist - Wen Li\n",
    "\n",
    "The goal of this project is to predict the probability of delay of the flights that land or take off from the airport of Santiago de Chile (SCL). For that we have a dataset using public and real data where each row corresponds to a flight that landed or took off from SCL during 2017.\n",
    "\n",
    "## 0.0 Package Import and Global variables assignment"
   ]
  },
  {
   "cell_type": "markdown",
   "id": "0f4f58b5",
   "metadata": {},
   "source": [
    "## 1.0 Read Data"
   ]
  },
  {
   "cell_type": "markdown",
   "id": "09a37a1c",
   "metadata": {},
   "source": [
    "## 2.0 Data Cleaning\n",
    "\n",
    "### 2.1 Remove duplicates and correct inappropriate cells"
   ]
  },
  {
   "cell_type": "markdown",
   "id": "2a301774",
   "metadata": {},
   "source": [
    "### 2.2 Additional columns"
   ]
  },
  {
   "cell_type": "markdown",
   "id": "3c08e03a",
   "metadata": {},
   "source": [
    "## 3.0 Exploratory Data Analysis\n",
    "### 3.1 Data Distribution"
   ]
  },
  {
   "cell_type": "markdown",
   "id": "98eab6f5",
   "metadata": {},
   "source": [
    "### 3.2 Relationship between delay rate and other variables"
   ]
  },
  {
   "cell_type": "markdown",
   "id": "23d27903",
   "metadata": {},
   "source": [
    "## 4.0 Models\n",
    "### 4.1 Training"
   ]
  },
  {
   "cell_type": "markdown",
   "id": "4b57aec7",
   "metadata": {},
   "source": [
    "### 4.2 Testing and Evaluation"
   ]
  },
  {
   "cell_type": "markdown",
   "id": "15ff11ef",
   "metadata": {},
   "source": [
    "## 5.0 Conclusion"
   ]
  }
 ],
 "metadata": {
  "kernelspec": {
   "display_name": "Python 3 (ipykernel)",
   "language": "python",
   "name": "python3"
  },
  "language_info": {
   "codemirror_mode": {
    "name": "ipython",
    "version": 3
   },
   "file_extension": ".py",
   "mimetype": "text/x-python",
   "name": "python",
   "nbconvert_exporter": "python",
   "pygments_lexer": "ipython3",
   "version": "3.8.13"
  }
 },
 "nbformat": 4,
 "nbformat_minor": 5
}
