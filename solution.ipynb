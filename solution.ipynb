{
 "cells": [
  {
   "cell_type": "markdown",
   "id": "3ef91205",
   "metadata": {},
   "source": [
    "# Challenge Data Scientist - Wen Li\n",
    "\n",
    "The goal of this project is to predict the probability of delay of the flights that land or take off from the airport of Santiago de Chile (SCL). For that we have a dataset using public and real data where each row corresponds to a flight that landed or took off from SCL during 2017.\n",
    "\n",
    "## 0.0 Package Import and Global variables assignment"
   ]
  },
  {
   "cell_type": "code",
   "execution_count": 26,
   "id": "cbbc95f9",
   "metadata": {},
   "outputs": [],
   "source": [
    "import pandas as pd\n",
    "import numpy as np\n",
    "from datetime import datetime, date\n",
    "source_df = \"dataset_SCL.csv\"\n",
    "develop_flag = False"
   ]
  },
  {
   "cell_type": "markdown",
   "id": "0f4f58b5",
   "metadata": {},
   "source": [
    "## 1.0 Read Data"
   ]
  },
  {
   "cell_type": "code",
   "execution_count": 2,
   "id": "33e121e2",
   "metadata": {},
   "outputs": [
    {
     "name": "stderr",
     "output_type": "stream",
     "text": [
      "/tmp/ipykernel_29/2614603408.py:1: DtypeWarning: Columns (1,6) have mixed types. Specify dtype option on import or set low_memory=False.\n",
      "  raw_df = pd.read_csv(source_df)\n"
     ]
    }
   ],
   "source": [
    "raw_df = pd.read_csv(source_df)\n",
    "if develop_flag:\n",
    "    print(\"The shape of raw dataset is {}\".format(raw_df.shape))"
   ]
  },
  {
   "cell_type": "markdown",
   "id": "09a37a1c",
   "metadata": {},
   "source": [
    "## 2.0 Data Pre-processing\n",
    "\n",
    "### 2.1 Data cleaning"
   ]
  },
  {
   "cell_type": "code",
   "execution_count": 98,
   "id": "27118b3f",
   "metadata": {},
   "outputs": [],
   "source": [
    "## 2.1.1 Remove duplicate data\n",
    "df = raw_df.drop_duplicates()\n",
    "if develop_flag:\n",
    "    print(\"Drop {} duplicated rows\".format(raw_df.shape[0]-df.shape[0]))\n",
    "## 2.1.2 Check and fix structural errors if there are any\n",
    "\n",
    "## TODO: Remove this part and Add these part in README\n",
    "if develop_flag:\n",
    "    print(set(df[\"Ori-I\"]), set(df[\"Des-I\"]), set(df[\"Emp-I\"]), set(df[\"Des-O\"]), set(df[\"Ori-O\"]), \n",
    "      set(df[\"Emp-O\"]), set(df[\"DIANOM\"]), set(df[\"OPERA\"]), set(df[\"SIGLAORI\"]), set(df[\"SIGLADES\"]))\n",
    "### Standardize capitalization good\n",
    "### Clear formatting\n",
    "\n",
    "### Convert data type\n",
    "df[\"Fecha-I\"] = pd.to_datetime(df[\"Fecha-I\"])\n",
    "df[\"Fecha-O\"] = pd.to_datetime(df[\"Fecha-O\"])\n",
    "\n",
    "## 2.1.3 Handle missing data\n",
    "## TODO: Remove this part and Add these part in README\n",
    "if develop_flag:\n",
    "    missing_col = []\n",
    "    for column in df.columns:\n",
    "        if df[column].isnull().values.any():\n",
    "            missing_col.append(column)\n",
    "    for column in missing_col:\n",
    "        print(df[df[column].isna()])\n",
    "        \n",
    "df.loc[df[\"Vlo-O\"].isna(),\"Vlo-O\"] = df[df[\"Vlo-O\"].isna()][\"Vlo-I\"]"
   ]
  },
  {
   "cell_type": "markdown",
   "id": "2a301774",
   "metadata": {},
   "source": [
    "### 2.2 Additional columns"
   ]
  },
  {
   "cell_type": "code",
   "execution_count": 100,
   "id": "3836edb9",
   "metadata": {},
   "outputs": [],
   "source": [
    "## 2.2.0 Date-I & Time_I\n",
    "df[\"Date-I\"] = df['Fecha-I'].dt.strftime(\"%m-%d\")\n",
    "df[\"Time-I\"] = df['Fecha-I'].dt.strftime(\"%H:%M\")\n",
    "\n",
    "## 2.2.1 high_season: if Date-I is between Dec-15 and Mar-3, or Jul-15 and Jul-31, or Sep-11 and Sep-30, 0 otherwise.\n",
    "df[\"high_season\"] = np.where((df[\"Date-I\"] <= \"03-03\") | \n",
    "                             ((\"06-15\" <= df[\"Date-I\"]) & (df[\"Date-I\"] <= \"06-31\"))\n",
    "                             | ((\"09-11\" <= df[\"Date-I\"]) & (df[\"Date-I\"] <= \"09-30\")) | (\"12-15\" <= df[\"Date-I\"]), 1, 0)\n",
    "\n",
    "## 2.2.2 min_diff : difference in minutes between Fecha-O and Fecha-I\n",
    "df[\"min_diff\"] = (df['Fecha-O'] - df['Fecha-I'])/np.timedelta64(1,'m')\n",
    "\n",
    "## 2.2.3 delay_15 : 1 if min_diff > 15, 0 if not.\n",
    "df[\"delay_15\"] = np.where(df[\"min_diff\"] > 15, 1, 0)\n",
    "\n",
    "## 2.2.4 period_day : morning (between 5:00 and 11:59), afternoon (between 12:00 and 18:59) and night (between 19:00 and 4:59)\n",
    "df[\"period_day\"] = np.where((df[\"Time-I\"] <= \"04:59\") | (df[\"Time-I\"] >= \"19:00\"), \"night\", \"\")\n",
    "df.loc[(df[\"Time-I\"] <= \"11:59\") & (\"05:00\" <= df[\"Time-I\"]), \"period_day\"] = \"morning\"\n",
    "df.loc[(df[\"Time-I\"] <= \"18:59\") & (\"12:00\" <= df[\"Time-I\"]), \"period_day\"] = \"afternoon\"\n",
    "\n",
    "## 2.2.5 Drop Date-I & Time_I\n",
    "df = df.drop([\"Date-I\", \"Time-I\"], axis=1)\n",
    "\n",
    "## 2.2.6 Save them to new csv files\n",
    "df.to_csv(\"synthetic_features.csv\")\n"
   ]
  },
  {
   "cell_type": "markdown",
   "id": "3c08e03a",
   "metadata": {},
   "source": [
    "## 3.0 Exploratory Data Analysis\n",
    "### 3.1 Data Distribution"
   ]
  },
  {
   "cell_type": "markdown",
   "id": "98eab6f5",
   "metadata": {},
   "source": [
    "### 3.2 Relationship between delay rate and other variables"
   ]
  },
  {
   "cell_type": "markdown",
   "id": "23d27903",
   "metadata": {},
   "source": [
    "## 4.0 Models\n",
    "### 4.1 Training"
   ]
  },
  {
   "cell_type": "markdown",
   "id": "4b57aec7",
   "metadata": {},
   "source": [
    "### 4.2 Testing and Evaluation"
   ]
  },
  {
   "cell_type": "markdown",
   "id": "15ff11ef",
   "metadata": {},
   "source": [
    "## 5.0 Conclusion"
   ]
  }
 ],
 "metadata": {
  "kernelspec": {
   "display_name": "Python 3 (ipykernel)",
   "language": "python",
   "name": "python3"
  },
  "language_info": {
   "codemirror_mode": {
    "name": "ipython",
    "version": 3
   },
   "file_extension": ".py",
   "mimetype": "text/x-python",
   "name": "python",
   "nbconvert_exporter": "python",
   "pygments_lexer": "ipython3",
   "version": "3.8.13"
  }
 },
 "nbformat": 4,
 "nbformat_minor": 5
}
